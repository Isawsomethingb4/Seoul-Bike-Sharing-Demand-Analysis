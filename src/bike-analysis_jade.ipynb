{
 "cells": [
  {
   "cell_type": "markdown",
   "metadata": {},
   "source": [
    "summary statistics & graph: variable table; mode; violin plot for continuous variable; calculate skewness and kurtosis\n",
    "\n",
    "train and test data set 20:80\n",
    "\n",
    "2. (a) function day; classification; (resample:smote); (lda;knn,rf,svm);hour not considered (Yahan)\n",
    "  \n",
    "   (b) fit with known distribution: poisson(2 parameters; lambda; link function); mixed effect model; B-spline: parameter tuning; opimization algo(gradient-based; gridsearch; by hand) \n",
    "   \n",
    "   metric: MSE, adj R2; loglikelihood; aic; bic (Jade)\n",
    "\n",
    "   (c) ml method: variable important. PCA (Yahan) ; ramdom forest (Jade)(if available; do regularized rf); (neural network); (time series)  "
   ]
  },
  {
   "cell_type": "code",
   "execution_count": 113,
   "metadata": {},
   "outputs": [],
   "source": [
    "import pandas as pd\n",
    "import numpy as np"
   ]
  },
  {
   "cell_type": "code",
   "execution_count": 114,
   "metadata": {},
   "outputs": [
    {
     "name": "stderr",
     "output_type": "stream",
     "text": [
      "/var/folders/y4/28brlbwj69l564mymy3f04wm0000gn/T/ipykernel_16584/1125663706.py:1: UserWarning: Parsing dates in DD/MM/YYYY format when dayfirst=False (the default) was specified. This may lead to inconsistently parsed dates! Specify a format to ensure consistent parsing.\n",
      "  data=pd.read_csv(\"../data/SeoulBikeData.csv\",encoding='ISO-8859-1', parse_dates=[0])\n"
     ]
    },
    {
     "data": {
      "text/html": [
       "<div>\n",
       "<style scoped>\n",
       "    .dataframe tbody tr th:only-of-type {\n",
       "        vertical-align: middle;\n",
       "    }\n",
       "\n",
       "    .dataframe tbody tr th {\n",
       "        vertical-align: top;\n",
       "    }\n",
       "\n",
       "    .dataframe thead th {\n",
       "        text-align: right;\n",
       "    }\n",
       "</style>\n",
       "<table border=\"1\" class=\"dataframe\">\n",
       "  <thead>\n",
       "    <tr style=\"text-align: right;\">\n",
       "      <th></th>\n",
       "      <th>Date</th>\n",
       "      <th>Rented Bike Count</th>\n",
       "      <th>Hour</th>\n",
       "      <th>Temperature(°C)</th>\n",
       "      <th>Humidity(%)</th>\n",
       "      <th>Wind speed (m/s)</th>\n",
       "      <th>Visibility (10m)</th>\n",
       "      <th>Dew point temperature(°C)</th>\n",
       "      <th>Solar Radiation (MJ/m2)</th>\n",
       "      <th>Rainfall(mm)</th>\n",
       "      <th>Snowfall (cm)</th>\n",
       "      <th>Seasons</th>\n",
       "      <th>Holiday</th>\n",
       "      <th>Functioning Day</th>\n",
       "    </tr>\n",
       "  </thead>\n",
       "  <tbody>\n",
       "    <tr>\n",
       "      <th>0</th>\n",
       "      <td>2017-01-12</td>\n",
       "      <td>254</td>\n",
       "      <td>0</td>\n",
       "      <td>-5.2</td>\n",
       "      <td>37</td>\n",
       "      <td>2.2</td>\n",
       "      <td>2000</td>\n",
       "      <td>-17.6</td>\n",
       "      <td>0.0</td>\n",
       "      <td>0.0</td>\n",
       "      <td>0.0</td>\n",
       "      <td>Winter</td>\n",
       "      <td>No Holiday</td>\n",
       "      <td>Yes</td>\n",
       "    </tr>\n",
       "    <tr>\n",
       "      <th>1</th>\n",
       "      <td>2017-01-12</td>\n",
       "      <td>204</td>\n",
       "      <td>1</td>\n",
       "      <td>-5.5</td>\n",
       "      <td>38</td>\n",
       "      <td>0.8</td>\n",
       "      <td>2000</td>\n",
       "      <td>-17.6</td>\n",
       "      <td>0.0</td>\n",
       "      <td>0.0</td>\n",
       "      <td>0.0</td>\n",
       "      <td>Winter</td>\n",
       "      <td>No Holiday</td>\n",
       "      <td>Yes</td>\n",
       "    </tr>\n",
       "    <tr>\n",
       "      <th>2</th>\n",
       "      <td>2017-01-12</td>\n",
       "      <td>173</td>\n",
       "      <td>2</td>\n",
       "      <td>-6.0</td>\n",
       "      <td>39</td>\n",
       "      <td>1.0</td>\n",
       "      <td>2000</td>\n",
       "      <td>-17.7</td>\n",
       "      <td>0.0</td>\n",
       "      <td>0.0</td>\n",
       "      <td>0.0</td>\n",
       "      <td>Winter</td>\n",
       "      <td>No Holiday</td>\n",
       "      <td>Yes</td>\n",
       "    </tr>\n",
       "    <tr>\n",
       "      <th>3</th>\n",
       "      <td>2017-01-12</td>\n",
       "      <td>107</td>\n",
       "      <td>3</td>\n",
       "      <td>-6.2</td>\n",
       "      <td>40</td>\n",
       "      <td>0.9</td>\n",
       "      <td>2000</td>\n",
       "      <td>-17.6</td>\n",
       "      <td>0.0</td>\n",
       "      <td>0.0</td>\n",
       "      <td>0.0</td>\n",
       "      <td>Winter</td>\n",
       "      <td>No Holiday</td>\n",
       "      <td>Yes</td>\n",
       "    </tr>\n",
       "    <tr>\n",
       "      <th>4</th>\n",
       "      <td>2017-01-12</td>\n",
       "      <td>78</td>\n",
       "      <td>4</td>\n",
       "      <td>-6.0</td>\n",
       "      <td>36</td>\n",
       "      <td>2.3</td>\n",
       "      <td>2000</td>\n",
       "      <td>-18.6</td>\n",
       "      <td>0.0</td>\n",
       "      <td>0.0</td>\n",
       "      <td>0.0</td>\n",
       "      <td>Winter</td>\n",
       "      <td>No Holiday</td>\n",
       "      <td>Yes</td>\n",
       "    </tr>\n",
       "  </tbody>\n",
       "</table>\n",
       "</div>"
      ],
      "text/plain": [
       "        Date  Rented Bike Count  Hour  Temperature(°C)  Humidity(%)  \\\n",
       "0 2017-01-12                254     0             -5.2           37   \n",
       "1 2017-01-12                204     1             -5.5           38   \n",
       "2 2017-01-12                173     2             -6.0           39   \n",
       "3 2017-01-12                107     3             -6.2           40   \n",
       "4 2017-01-12                 78     4             -6.0           36   \n",
       "\n",
       "   Wind speed (m/s)  Visibility (10m)  Dew point temperature(°C)  \\\n",
       "0               2.2              2000                      -17.6   \n",
       "1               0.8              2000                      -17.6   \n",
       "2               1.0              2000                      -17.7   \n",
       "3               0.9              2000                      -17.6   \n",
       "4               2.3              2000                      -18.6   \n",
       "\n",
       "   Solar Radiation (MJ/m2)  Rainfall(mm)  Snowfall (cm) Seasons     Holiday  \\\n",
       "0                      0.0           0.0            0.0  Winter  No Holiday   \n",
       "1                      0.0           0.0            0.0  Winter  No Holiday   \n",
       "2                      0.0           0.0            0.0  Winter  No Holiday   \n",
       "3                      0.0           0.0            0.0  Winter  No Holiday   \n",
       "4                      0.0           0.0            0.0  Winter  No Holiday   \n",
       "\n",
       "  Functioning Day  \n",
       "0             Yes  \n",
       "1             Yes  \n",
       "2             Yes  \n",
       "3             Yes  \n",
       "4             Yes  "
      ]
     },
     "execution_count": 114,
     "metadata": {},
     "output_type": "execute_result"
    }
   ],
   "source": [
    "data=pd.read_csv(\"../data/SeoulBikeData.csv\",encoding='ISO-8859-1', parse_dates=[0])\n",
    "data.head()"
   ]
  },
  {
   "cell_type": "code",
   "execution_count": 159,
   "metadata": {},
   "outputs": [],
   "source": [
    "data=data.rename(columns={'Temperature(°C)':'Temperature','Humidity(%)':'Humidity','Rainfall(mm)':'Rainfall','Snowfall (cm)':'Snowfall','Wind speed (m/s)':'Wind speed','Visibility (10m)':'Visibility','Solar Radiation (MJ/m2)':'Radiation','Dew point temperature(°C)':'Dew point temperature', \"Rented Bike Count\": \"Count\"})"
   ]
  },
  {
   "cell_type": "code",
   "execution_count": 160,
   "metadata": {},
   "outputs": [
    {
     "name": "stdout",
     "output_type": "stream",
     "text": [
      "<class 'pandas.core.frame.DataFrame'>\n",
      "RangeIndex: 8760 entries, 0 to 8759\n",
      "Data columns (total 14 columns):\n",
      " #   Column                 Non-Null Count  Dtype         \n",
      "---  ------                 --------------  -----         \n",
      " 0   Date                   8760 non-null   datetime64[ns]\n",
      " 1   Count                  8760 non-null   int64         \n",
      " 2   Hour                   8760 non-null   int64         \n",
      " 3   Temperature            8760 non-null   float64       \n",
      " 4   Humidity               8760 non-null   int64         \n",
      " 5   Wind speed             8760 non-null   float64       \n",
      " 6   Visibility             8760 non-null   int64         \n",
      " 7   Dew point temperature  8760 non-null   float64       \n",
      " 8   Radiation              8760 non-null   float64       \n",
      " 9   Rainfall               8760 non-null   float64       \n",
      " 10  Snowfall               8760 non-null   float64       \n",
      " 11  Seasons                8760 non-null   object        \n",
      " 12  Holiday                8760 non-null   object        \n",
      " 13  Functioning Day        8760 non-null   object        \n",
      "dtypes: datetime64[ns](1), float64(6), int64(4), object(3)\n",
      "memory usage: 958.3+ KB\n"
     ]
    }
   ],
   "source": [
    "data.info()"
   ]
  },
  {
   "cell_type": "markdown",
   "metadata": {},
   "source": [
    "## Part 1\n",
    "\n",
    "summary statistics & graph: variable table; mode; violin plot for continuous variable; calculate skewness and kurtosis"
   ]
  },
  {
   "cell_type": "code",
   "execution_count": 161,
   "metadata": {},
   "outputs": [
    {
     "data": {
      "text/plain": [
       "Index(['Date', 'Count', 'Hour', 'Temperature', 'Humidity', 'Wind speed',\n",
       "       'Visibility', 'Dew point temperature', 'Radiation', 'Rainfall',\n",
       "       'Snowfall', 'Seasons', 'Holiday', 'Functioning Day'],\n",
       "      dtype='object')"
      ]
     },
     "execution_count": 161,
     "metadata": {},
     "output_type": "execute_result"
    }
   ],
   "source": [
    "data.columns"
   ]
  },
  {
   "cell_type": "code",
   "execution_count": 162,
   "metadata": {},
   "outputs": [
    {
     "data": {
      "text/plain": [
       "Temperature                19.1\n",
       "Humidity                   53.0\n",
       "Wind speed                  1.1\n",
       "Visibility               2000.0\n",
       "Dew point temperature       0.0\n",
       "Radiation                   0.0\n",
       "Rainfall                    0.0\n",
       "Snowfall                    0.0\n",
       "Count                       0.0\n",
       "dtype: float64"
      ]
     },
     "execution_count": 162,
     "metadata": {},
     "output_type": "execute_result"
    }
   ],
   "source": [
    "contious_variables=data[['Temperature', 'Humidity', 'Wind speed', 'Visibility', 'Dew point temperature', 'Radiation', 'Rainfall', 'Snowfall', 'Count']]\n",
    "contious_variables.apply(lambda x: x.mode().iloc[0])"
   ]
  },
  {
   "cell_type": "code",
   "execution_count": 163,
   "metadata": {},
   "outputs": [
    {
     "data": {
      "text/html": [
       "<div>\n",
       "<style scoped>\n",
       "    .dataframe tbody tr th:only-of-type {\n",
       "        vertical-align: middle;\n",
       "    }\n",
       "\n",
       "    .dataframe tbody tr th {\n",
       "        vertical-align: top;\n",
       "    }\n",
       "\n",
       "    .dataframe thead th {\n",
       "        text-align: right;\n",
       "    }\n",
       "</style>\n",
       "<table border=\"1\" class=\"dataframe\">\n",
       "  <thead>\n",
       "    <tr style=\"text-align: right;\">\n",
       "      <th></th>\n",
       "      <th>count</th>\n",
       "      <th>mean</th>\n",
       "      <th>std</th>\n",
       "      <th>min</th>\n",
       "      <th>25%</th>\n",
       "      <th>50%</th>\n",
       "      <th>75%</th>\n",
       "      <th>max</th>\n",
       "    </tr>\n",
       "  </thead>\n",
       "  <tbody>\n",
       "    <tr>\n",
       "      <th>Temperature</th>\n",
       "      <td>8760.0</td>\n",
       "      <td>12.882922</td>\n",
       "      <td>11.944825</td>\n",
       "      <td>-17.8</td>\n",
       "      <td>3.5</td>\n",
       "      <td>13.70</td>\n",
       "      <td>22.50</td>\n",
       "      <td>39.40</td>\n",
       "    </tr>\n",
       "    <tr>\n",
       "      <th>Humidity</th>\n",
       "      <td>8760.0</td>\n",
       "      <td>58.226256</td>\n",
       "      <td>20.362413</td>\n",
       "      <td>0.0</td>\n",
       "      <td>42.0</td>\n",
       "      <td>57.00</td>\n",
       "      <td>74.00</td>\n",
       "      <td>98.00</td>\n",
       "    </tr>\n",
       "    <tr>\n",
       "      <th>Wind speed</th>\n",
       "      <td>8760.0</td>\n",
       "      <td>1.724909</td>\n",
       "      <td>1.036300</td>\n",
       "      <td>0.0</td>\n",
       "      <td>0.9</td>\n",
       "      <td>1.50</td>\n",
       "      <td>2.30</td>\n",
       "      <td>7.40</td>\n",
       "    </tr>\n",
       "    <tr>\n",
       "      <th>Visibility</th>\n",
       "      <td>8760.0</td>\n",
       "      <td>1436.825799</td>\n",
       "      <td>608.298712</td>\n",
       "      <td>27.0</td>\n",
       "      <td>940.0</td>\n",
       "      <td>1698.00</td>\n",
       "      <td>2000.00</td>\n",
       "      <td>2000.00</td>\n",
       "    </tr>\n",
       "    <tr>\n",
       "      <th>Dew point temperature</th>\n",
       "      <td>8760.0</td>\n",
       "      <td>4.073813</td>\n",
       "      <td>13.060369</td>\n",
       "      <td>-30.6</td>\n",
       "      <td>-4.7</td>\n",
       "      <td>5.10</td>\n",
       "      <td>14.80</td>\n",
       "      <td>27.20</td>\n",
       "    </tr>\n",
       "    <tr>\n",
       "      <th>Radiation</th>\n",
       "      <td>8760.0</td>\n",
       "      <td>0.569111</td>\n",
       "      <td>0.868746</td>\n",
       "      <td>0.0</td>\n",
       "      <td>0.0</td>\n",
       "      <td>0.01</td>\n",
       "      <td>0.93</td>\n",
       "      <td>3.52</td>\n",
       "    </tr>\n",
       "    <tr>\n",
       "      <th>Rainfall</th>\n",
       "      <td>8760.0</td>\n",
       "      <td>0.148687</td>\n",
       "      <td>1.128193</td>\n",
       "      <td>0.0</td>\n",
       "      <td>0.0</td>\n",
       "      <td>0.00</td>\n",
       "      <td>0.00</td>\n",
       "      <td>35.00</td>\n",
       "    </tr>\n",
       "    <tr>\n",
       "      <th>Snowfall</th>\n",
       "      <td>8760.0</td>\n",
       "      <td>0.075068</td>\n",
       "      <td>0.436746</td>\n",
       "      <td>0.0</td>\n",
       "      <td>0.0</td>\n",
       "      <td>0.00</td>\n",
       "      <td>0.00</td>\n",
       "      <td>8.80</td>\n",
       "    </tr>\n",
       "    <tr>\n",
       "      <th>Count</th>\n",
       "      <td>8760.0</td>\n",
       "      <td>704.602055</td>\n",
       "      <td>644.997468</td>\n",
       "      <td>0.0</td>\n",
       "      <td>191.0</td>\n",
       "      <td>504.50</td>\n",
       "      <td>1065.25</td>\n",
       "      <td>3556.00</td>\n",
       "    </tr>\n",
       "  </tbody>\n",
       "</table>\n",
       "</div>"
      ],
      "text/plain": [
       "                        count         mean         std   min    25%      50%  \\\n",
       "Temperature            8760.0    12.882922   11.944825 -17.8    3.5    13.70   \n",
       "Humidity               8760.0    58.226256   20.362413   0.0   42.0    57.00   \n",
       "Wind speed             8760.0     1.724909    1.036300   0.0    0.9     1.50   \n",
       "Visibility             8760.0  1436.825799  608.298712  27.0  940.0  1698.00   \n",
       "Dew point temperature  8760.0     4.073813   13.060369 -30.6   -4.7     5.10   \n",
       "Radiation              8760.0     0.569111    0.868746   0.0    0.0     0.01   \n",
       "Rainfall               8760.0     0.148687    1.128193   0.0    0.0     0.00   \n",
       "Snowfall               8760.0     0.075068    0.436746   0.0    0.0     0.00   \n",
       "Count                  8760.0   704.602055  644.997468   0.0  191.0   504.50   \n",
       "\n",
       "                           75%      max  \n",
       "Temperature              22.50    39.40  \n",
       "Humidity                 74.00    98.00  \n",
       "Wind speed                2.30     7.40  \n",
       "Visibility             2000.00  2000.00  \n",
       "Dew point temperature    14.80    27.20  \n",
       "Radiation                 0.93     3.52  \n",
       "Rainfall                  0.00    35.00  \n",
       "Snowfall                  0.00     8.80  \n",
       "Count                  1065.25  3556.00  "
      ]
     },
     "execution_count": 163,
     "metadata": {},
     "output_type": "execute_result"
    }
   ],
   "source": [
    "contious_variables.describe().T"
   ]
  },
  {
   "cell_type": "code",
   "execution_count": 120,
   "metadata": {},
   "outputs": [
    {
     "data": {
      "text/plain": [
       "Temperature              -0.198326\n",
       "Humidity                  0.059579\n",
       "Wind speed                0.890955\n",
       "Visibility               -0.701786\n",
       "Dew point temperature    -0.367298\n",
       "Radiation                 1.504040\n",
       "Rainfall                 14.533232\n",
       "Snowfall                  8.440801\n",
       "Rented Bike Count         1.153428\n",
       "dtype: float64"
      ]
     },
     "execution_count": 120,
     "metadata": {},
     "output_type": "execute_result"
    }
   ],
   "source": [
    "contious_variables.apply(lambda x: x.skew())"
   ]
  },
  {
   "cell_type": "code",
   "execution_count": 121,
   "metadata": {},
   "outputs": [
    {
     "data": {
      "text/plain": [
       "Temperature               -0.837786\n",
       "Humidity                  -0.803559\n",
       "Wind speed                 0.727179\n",
       "Visibility                -0.961980\n",
       "Dew point temperature     -0.755430\n",
       "Radiation                  1.126433\n",
       "Rainfall                 284.991099\n",
       "Snowfall                  93.803324\n",
       "Rented Bike Count          0.853387\n",
       "dtype: float64"
      ]
     },
     "execution_count": 121,
     "metadata": {},
     "output_type": "execute_result"
    }
   ],
   "source": [
    "contious_variables.apply(lambda x: x.kurtosis())"
   ]
  },
  {
   "cell_type": "code",
   "execution_count": 122,
   "metadata": {},
   "outputs": [],
   "source": [
    "import rpy2\n",
    "%reload_ext rpy2.ipython"
   ]
  },
  {
   "cell_type": "code",
   "execution_count": 123,
   "metadata": {},
   "outputs": [
    {
     "name": "stdout",
     "output_type": "stream",
     "text": [
      "'data.frame':\t8760 obs. of  14 variables:\n",
      " $ Date                 : POSIXct, format: \"2017-01-12\" \"2017-01-12\" ...\n",
      " $ Rented Bike Count    : int  254 204 173 107 78 100 181 460 930 490 ...\n",
      " $ Hour                 : int  0 1 2 3 4 5 6 7 8 9 ...\n",
      " $ Temperature          : num  -5.2 -5.5 -6 -6.2 -6 -6.4 -6.6 -7.4 -7.6 -6.5 ...\n",
      " $ Humidity             : int  37 38 39 40 36 37 35 38 37 27 ...\n",
      " $ Wind speed           : num  2.2 0.8 1 0.9 2.3 1.5 1.3 0.9 1.1 0.5 ...\n",
      " $ Visibility           : int  2000 2000 2000 2000 2000 2000 2000 2000 2000 1928 ...\n",
      " $ Dew point temperature: num  -17.6 -17.6 -17.7 -17.6 -18.6 -18.7 -19.5 -19.3 -19.8 -22.4 ...\n",
      " $ Radiation            : num  0 0 0 0 0 0 0 0 0.01 0.23 ...\n",
      " $ Rainfall             : num  0 0 0 0 0 0 0 0 0 0 ...\n",
      " $ Snowfall             : num  0 0 0 0 0 0 0 0 0 0 ...\n",
      " $ Seasons              : chr  \"Winter\" \"Winter\" \"Winter\" \"Winter\" ...\n",
      " $ Holiday              : chr  \"No Holiday\" \"No Holiday\" \"No Holiday\" \"No Holiday\" ...\n",
      " $ Functioning Day      : chr  \"Yes\" \"Yes\" \"Yes\" \"Yes\" ...\n"
     ]
    }
   ],
   "source": [
    "%%R -i contious_variables -i data\n",
    "head(contious_variables)\n",
    "head(data)\n",
    "str(data)"
   ]
  },
  {
   "cell_type": "code",
   "execution_count": 164,
   "metadata": {},
   "outputs": [
    {
     "name": "stdout",
     "output_type": "stream",
     "text": [
      "[1] \"Date\"            \"Hour\"            \"Seasons\"         \"Holiday\"        \n",
      "[5] \"Functioning Day\"\n"
     ]
    }
   ],
   "source": [
    "%%R\n",
    "library(ggplot2)\n",
    "library(reshape2)\n",
    "contious_variables_name <- colnames(contious_variables)\n",
    "colnames <- colnames(data)\n",
    "other_variable_name <- colnames[!colnames %in% contious_variables_name]\n",
    "data_without_count <- \n",
    "data_melt <- melt(data[, -c(2, 7)], id=other_variable_name)\n",
    "colnames\n",
    "contious_variables_name\n",
    "other_variable_name"
   ]
  },
  {
   "cell_type": "code",
   "execution_count": 165,
   "metadata": {},
   "outputs": [
    {
     "name": "stdout",
     "output_type": "stream",
     "text": [
      "'data.frame':\t61320 obs. of  7 variables:\n",
      " $ Date           : POSIXct, format: \"2017-01-12\" \"2017-01-12\" ...\n",
      " $ Hour           : int  0 1 2 3 4 5 6 7 8 9 ...\n",
      " $ Seasons        : chr  \"Winter\" \"Winter\" \"Winter\" \"Winter\" ...\n",
      " $ Holiday        : chr  \"No Holiday\" \"No Holiday\" \"No Holiday\" \"No Holiday\" ...\n",
      " $ Functioning Day: chr  \"Yes\" \"Yes\" \"Yes\" \"Yes\" ...\n",
      " $ variable       : Factor w/ 7 levels \"Temperature\",..: 1 1 1 1 1 1 1 1 1 1 ...\n",
      " $ value          : num  -5.2 -5.5 -6 -6.2 -6 -6.4 -6.6 -7.4 -7.6 -6.5 ...\n"
     ]
    }
   ],
   "source": [
    "%%R\n",
    "str(data_melt)"
   ]
  },
  {
   "cell_type": "code",
   "execution_count": 166,
   "metadata": {},
   "outputs": [],
   "source": [
    "%%R\n",
    "data_melt$variable <- as.character(data_melt$variable)"
   ]
  },
  {
   "cell_type": "code",
   "execution_count": 167,
   "metadata": {},
   "outputs": [
    {
     "data": {
      "image/png": "[encoded data removed]",
      "text/plain": [
       "<IPython.core.display.Image object>"
      ]
     },
     "metadata": {},
     "output_type": "display_data"
    }
   ],
   "source": [
    "%%R\n",
    "ggplot(data_melt)+\n",
    "aes(y=variable, x=value)+\n",
    "geom_violin()\n",
    "# geom_boxplot()+\n",
    "# facet_grid(Holiday~Seasons)"
   ]
  },
  {
   "cell_type": "code",
   "execution_count": 168,
   "metadata": {},
   "outputs": [
    {
     "data": {
      "text/plain": [
       "<Axes: xlabel='features', ylabel='value'>"
      ]
     },
     "execution_count": 168,
     "metadata": {},
     "output_type": "execute_result"
    },
    {
     "data": {
      "image/png": "[encoded data removed]",
      "text/plain": [
       "<Figure size 1500x800 with 1 Axes>"
      ]
     },
     "metadata": {},
     "output_type": "display_data"
    }
   ],
   "source": [
    "import matplotlib.pyplot as plt\n",
    "import seaborn as sns\n",
    "contious_variables_melt=contious_variables.melt(var_name='features', value_name='value')\n",
    "plt.figure(figsize=(15, 8))\n",
    "sns.violinplot(x='features', y='value', data=contious_variables_melt)"
   ]
  },
  {
   "cell_type": "markdown",
   "metadata": {},
   "source": [
    "because of the value scale here"
   ]
  },
  {
   "cell_type": "markdown",
   "metadata": {},
   "source": [
    "## Part2"
   ]
  },
  {
   "cell_type": "markdown",
   "metadata": {},
   "source": [
    "fit with known distribution: poisson(2 parameters; lambda; link function); mixed effect model; B-spline: parameter tuning; opimization algo(gradient-based; gridsearch; by hand)"
   ]
  },
  {
   "cell_type": "markdown",
   "metadata": {},
   "source": [
    "### count does not follow poisson distribution, but try fit with GLM"
   ]
  },
  {
   "cell_type": "code",
   "execution_count": 169,
   "metadata": {},
   "outputs": [],
   "source": [
    "data_functioning=data[data[\"Functioning Day\"]=='Yes'].drop(columns=\"Functioning Day\", axis=1)"
   ]
  },
  {
   "cell_type": "code",
   "execution_count": 170,
   "metadata": {},
   "outputs": [
    {
     "data": {
      "text/html": [
       "<div>\n",
       "<style scoped>\n",
       "    .dataframe tbody tr th:only-of-type {\n",
       "        vertical-align: middle;\n",
       "    }\n",
       "\n",
       "    .dataframe tbody tr th {\n",
       "        vertical-align: top;\n",
       "    }\n",
       "\n",
       "    .dataframe thead th {\n",
       "        text-align: right;\n",
       "    }\n",
       "</style>\n",
       "<table border=\"1\" class=\"dataframe\">\n",
       "  <thead>\n",
       "    <tr style=\"text-align: right;\">\n",
       "      <th></th>\n",
       "      <th>Date</th>\n",
       "      <th>Count</th>\n",
       "      <th>Hour</th>\n",
       "      <th>Temperature</th>\n",
       "      <th>Humidity</th>\n",
       "      <th>Wind speed</th>\n",
       "      <th>Visibility</th>\n",
       "      <th>Dew point temperature</th>\n",
       "      <th>Radiation</th>\n",
       "      <th>Rainfall</th>\n",
       "      <th>Snowfall</th>\n",
       "      <th>Seasons</th>\n",
       "      <th>Holiday</th>\n",
       "    </tr>\n",
       "  </thead>\n",
       "  <tbody>\n",
       "    <tr>\n",
       "      <th>0</th>\n",
       "      <td>2017-01-12</td>\n",
       "      <td>254</td>\n",
       "      <td>0</td>\n",
       "      <td>-5.2</td>\n",
       "      <td>37</td>\n",
       "      <td>2.2</td>\n",
       "      <td>2000</td>\n",
       "      <td>-17.6</td>\n",
       "      <td>0.0</td>\n",
       "      <td>0.0</td>\n",
       "      <td>0.0</td>\n",
       "      <td>Winter</td>\n",
       "      <td>No Holiday</td>\n",
       "    </tr>\n",
       "    <tr>\n",
       "      <th>1</th>\n",
       "      <td>2017-01-12</td>\n",
       "      <td>204</td>\n",
       "      <td>1</td>\n",
       "      <td>-5.5</td>\n",
       "      <td>38</td>\n",
       "      <td>0.8</td>\n",
       "      <td>2000</td>\n",
       "      <td>-17.6</td>\n",
       "      <td>0.0</td>\n",
       "      <td>0.0</td>\n",
       "      <td>0.0</td>\n",
       "      <td>Winter</td>\n",
       "      <td>No Holiday</td>\n",
       "    </tr>\n",
       "    <tr>\n",
       "      <th>2</th>\n",
       "      <td>2017-01-12</td>\n",
       "      <td>173</td>\n",
       "      <td>2</td>\n",
       "      <td>-6.0</td>\n",
       "      <td>39</td>\n",
       "      <td>1.0</td>\n",
       "      <td>2000</td>\n",
       "      <td>-17.7</td>\n",
       "      <td>0.0</td>\n",
       "      <td>0.0</td>\n",
       "      <td>0.0</td>\n",
       "      <td>Winter</td>\n",
       "      <td>No Holiday</td>\n",
       "    </tr>\n",
       "    <tr>\n",
       "      <th>3</th>\n",
       "      <td>2017-01-12</td>\n",
       "      <td>107</td>\n",
       "      <td>3</td>\n",
       "      <td>-6.2</td>\n",
       "      <td>40</td>\n",
       "      <td>0.9</td>\n",
       "      <td>2000</td>\n",
       "      <td>-17.6</td>\n",
       "      <td>0.0</td>\n",
       "      <td>0.0</td>\n",
       "      <td>0.0</td>\n",
       "      <td>Winter</td>\n",
       "      <td>No Holiday</td>\n",
       "    </tr>\n",
       "    <tr>\n",
       "      <th>4</th>\n",
       "      <td>2017-01-12</td>\n",
       "      <td>78</td>\n",
       "      <td>4</td>\n",
       "      <td>-6.0</td>\n",
       "      <td>36</td>\n",
       "      <td>2.3</td>\n",
       "      <td>2000</td>\n",
       "      <td>-18.6</td>\n",
       "      <td>0.0</td>\n",
       "      <td>0.0</td>\n",
       "      <td>0.0</td>\n",
       "      <td>Winter</td>\n",
       "      <td>No Holiday</td>\n",
       "    </tr>\n",
       "    <tr>\n",
       "      <th>...</th>\n",
       "      <td>...</td>\n",
       "      <td>...</td>\n",
       "      <td>...</td>\n",
       "      <td>...</td>\n",
       "      <td>...</td>\n",
       "      <td>...</td>\n",
       "      <td>...</td>\n",
       "      <td>...</td>\n",
       "      <td>...</td>\n",
       "      <td>...</td>\n",
       "      <td>...</td>\n",
       "      <td>...</td>\n",
       "      <td>...</td>\n",
       "    </tr>\n",
       "    <tr>\n",
       "      <th>8755</th>\n",
       "      <td>2018-11-30</td>\n",
       "      <td>1003</td>\n",
       "      <td>19</td>\n",
       "      <td>4.2</td>\n",
       "      <td>34</td>\n",
       "      <td>2.6</td>\n",
       "      <td>1894</td>\n",
       "      <td>-10.3</td>\n",
       "      <td>0.0</td>\n",
       "      <td>0.0</td>\n",
       "      <td>0.0</td>\n",
       "      <td>Autumn</td>\n",
       "      <td>No Holiday</td>\n",
       "    </tr>\n",
       "    <tr>\n",
       "      <th>8756</th>\n",
       "      <td>2018-11-30</td>\n",
       "      <td>764</td>\n",
       "      <td>20</td>\n",
       "      <td>3.4</td>\n",
       "      <td>37</td>\n",
       "      <td>2.3</td>\n",
       "      <td>2000</td>\n",
       "      <td>-9.9</td>\n",
       "      <td>0.0</td>\n",
       "      <td>0.0</td>\n",
       "      <td>0.0</td>\n",
       "      <td>Autumn</td>\n",
       "      <td>No Holiday</td>\n",
       "    </tr>\n",
       "    <tr>\n",
       "      <th>8757</th>\n",
       "      <td>2018-11-30</td>\n",
       "      <td>694</td>\n",
       "      <td>21</td>\n",
       "      <td>2.6</td>\n",
       "      <td>39</td>\n",
       "      <td>0.3</td>\n",
       "      <td>1968</td>\n",
       "      <td>-9.9</td>\n",
       "      <td>0.0</td>\n",
       "      <td>0.0</td>\n",
       "      <td>0.0</td>\n",
       "      <td>Autumn</td>\n",
       "      <td>No Holiday</td>\n",
       "    </tr>\n",
       "    <tr>\n",
       "      <th>8758</th>\n",
       "      <td>2018-11-30</td>\n",
       "      <td>712</td>\n",
       "      <td>22</td>\n",
       "      <td>2.1</td>\n",
       "      <td>41</td>\n",
       "      <td>1.0</td>\n",
       "      <td>1859</td>\n",
       "      <td>-9.8</td>\n",
       "      <td>0.0</td>\n",
       "      <td>0.0</td>\n",
       "      <td>0.0</td>\n",
       "      <td>Autumn</td>\n",
       "      <td>No Holiday</td>\n",
       "    </tr>\n",
       "    <tr>\n",
       "      <th>8759</th>\n",
       "      <td>2018-11-30</td>\n",
       "      <td>584</td>\n",
       "      <td>23</td>\n",
       "      <td>1.9</td>\n",
       "      <td>43</td>\n",
       "      <td>1.3</td>\n",
       "      <td>1909</td>\n",
       "      <td>-9.3</td>\n",
       "      <td>0.0</td>\n",
       "      <td>0.0</td>\n",
       "      <td>0.0</td>\n",
       "      <td>Autumn</td>\n",
       "      <td>No Holiday</td>\n",
       "    </tr>\n",
       "  </tbody>\n",
       "</table>\n",
       "<p>8465 rows × 13 columns</p>\n",
       "</div>"
      ],
      "text/plain": [
       "           Date  Count  Hour  Temperature  Humidity  Wind speed  Visibility  \\\n",
       "0    2017-01-12    254     0         -5.2        37         2.2        2000   \n",
       "1    2017-01-12    204     1         -5.5        38         0.8        2000   \n",
       "2    2017-01-12    173     2         -6.0        39         1.0        2000   \n",
       "3    2017-01-12    107     3         -6.2        40         0.9        2000   \n",
       "4    2017-01-12     78     4         -6.0        36         2.3        2000   \n",
       "...         ...    ...   ...          ...       ...         ...         ...   \n",
       "8755 2018-11-30   1003    19          4.2        34         2.6        1894   \n",
       "8756 2018-11-30    764    20          3.4        37         2.3        2000   \n",
       "8757 2018-11-30    694    21          2.6        39         0.3        1968   \n",
       "8758 2018-11-30    712    22          2.1        41         1.0        1859   \n",
       "8759 2018-11-30    584    23          1.9        43         1.3        1909   \n",
       "\n",
       "      Dew point temperature  Radiation  Rainfall  Snowfall Seasons     Holiday  \n",
       "0                     -17.6        0.0       0.0       0.0  Winter  No Holiday  \n",
       "1                     -17.6        0.0       0.0       0.0  Winter  No Holiday  \n",
       "2                     -17.7        0.0       0.0       0.0  Winter  No Holiday  \n",
       "3                     -17.6        0.0       0.0       0.0  Winter  No Holiday  \n",
       "4                     -18.6        0.0       0.0       0.0  Winter  No Holiday  \n",
       "...                     ...        ...       ...       ...     ...         ...  \n",
       "8755                  -10.3        0.0       0.0       0.0  Autumn  No Holiday  \n",
       "8756                   -9.9        0.0       0.0       0.0  Autumn  No Holiday  \n",
       "8757                   -9.9        0.0       0.0       0.0  Autumn  No Holiday  \n",
       "8758                   -9.8        0.0       0.0       0.0  Autumn  No Holiday  \n",
       "8759                   -9.3        0.0       0.0       0.0  Autumn  No Holiday  \n",
       "\n",
       "[8465 rows x 13 columns]"
      ]
     },
     "execution_count": 170,
     "metadata": {},
     "output_type": "execute_result"
    }
   ],
   "source": [
    "data_functioning"
   ]
  },
  {
   "cell_type": "markdown",
   "metadata": {},
   "source": [
    "### fit with poisson distribution"
   ]
  },
  {
   "cell_type": "code",
   "execution_count": 171,
   "metadata": {},
   "outputs": [
    {
     "name": "stdout",
     "output_type": "stream",
     "text": [
      "KS Statistic: 0.1288630535997683\n",
      "P-value: 5.213263461611876e-123\n"
     ]
    }
   ],
   "source": [
    "from scipy.stats import kstest, norm, poisson, nbinom\n",
    "norm_params=norm.fit(data_functioning['Count'])\n",
    "ks_statistic, p_value=kstest(data_functioning['Count'], 'norm', norm_params)\n",
    "print(\"KS Statistic:\", ks_statistic)\n",
    "print(\"P-value:\", p_value)"
   ]
  },
  {
   "cell_type": "code",
   "execution_count": 132,
   "metadata": {},
   "outputs": [
    {
     "name": "stdout",
     "output_type": "stream",
     "text": [
      "KS Statistic: 0.5560968336343938\n",
      "P-value: 0.0\n"
     ]
    }
   ],
   "source": [
    "ks_statistic, p_value=kstest(data_functioning['Count'], 'poisson', args=(data_functioning['Count'].mean(), ))\n",
    "print(\"KS Statistic:\", ks_statistic)\n",
    "print(\"P-value:\", p_value)"
   ]
  },
  {
   "cell_type": "code",
   "execution_count": 133,
   "metadata": {},
   "outputs": [
    {
     "name": "stdout",
     "output_type": "stream",
     "text": [
      "KS Statistic: 0.6888420489865845\n",
      "P-value: 0.0\n"
     ]
    }
   ],
   "source": [
    "r=30.5\n",
    "p=0.15\n",
    "ks_statistic, p_value=kstest(data_functioning['Count'], 'nbinom', args=(r,p))\n",
    "print(\"KS Statistic:\", ks_statistic)\n",
    "print(\"P-value:\", p_value)"
   ]
  },
  {
   "cell_type": "code",
   "execution_count": 134,
   "metadata": {},
   "outputs": [
    {
     "name": "stdout",
     "output_type": "stream",
     "text": [
      "Best Parameters, r: 5.94949494949495 p: 0.01\n",
      "Minimum KS Statistic: 0.2565696008756877 Maximum p value: 0.0\n"
     ]
    }
   ],
   "source": [
    "r_values=np.linspace(1, 50, 100)\n",
    "p_values=np.linspace(0.01, 0.1, 100)\n",
    "min_ks_statistic=np.inf\n",
    "max_p_statistic=np.inf\n",
    "best_r=None\n",
    "best_p=None\n",
    "for r in r_values:\n",
    "    for p in p_values:\n",
    "        ks_statistic, p_value=kstest(data_functioning['Count'], 'nbinom', args=(r,p))\n",
    "        if ks_statistic < min_ks_statistic:\n",
    "            min_ks_statistic=ks_statistic\n",
    "            max_p_statistic=p_value\n",
    "            best_r=r\n",
    "            best_p=p\n",
    "print(\"Best Parameters, r:\", best_r, \"p:\", best_p)\n",
    "print(\"Minimum KS Statistic:\", min_ks_statistic, \"Maximum p value:\", max_p_statistic)"
   ]
  },
  {
   "cell_type": "markdown",
   "metadata": {},
   "source": [
    "no common distribution suitable for fit"
   ]
  },
  {
   "cell_type": "markdown",
   "metadata": {},
   "source": [
    "### Linear mixed effect model\n",
    "\n",
    "important group variable: season, hour, day(in a week)\n",
    "\n",
    "feature engineering to add a `day` feature"
   ]
  },
  {
   "cell_type": "code",
   "execution_count": 172,
   "metadata": {},
   "outputs": [],
   "source": [
    "data_functioning['Day']=data_functioning['Date'].dt.day_of_week"
   ]
  },
  {
   "cell_type": "code",
   "execution_count": 173,
   "metadata": {},
   "outputs": [],
   "source": [
    "data_functioning.drop(columns='Date', inplace=True)"
   ]
  },
  {
   "cell_type": "code",
   "execution_count": 174,
   "metadata": {},
   "outputs": [
    {
     "data": {
      "text/plain": [
       "Index(['Count', 'Hour', 'Temperature', 'Humidity', 'Wind speed', 'Visibility',\n",
       "       'Dew point temperature', 'Radiation', 'Rainfall', 'Snowfall', 'Seasons',\n",
       "       'Holiday', 'Day'],\n",
       "      dtype='object')"
      ]
     },
     "execution_count": 174,
     "metadata": {},
     "output_type": "execute_result"
    }
   ],
   "source": [
    "data_functioning.columns"
   ]
  },
  {
   "cell_type": "code",
   "execution_count": 256,
   "metadata": {},
   "outputs": [],
   "source": [
    "# data_functioning_melt=pd.melt(data_functioning, value_vars=['Hour', 'Seasons', 'Holiday', 'Day'], id_vars=data_functioning.loc[ : , \"Temperature\":\"Snowfall\"].columns.tolist()+['Count'], var_name='Variable')\n",
    "data_functioning_melt=pd.melt(data_functioning, value_vars=['Holiday', \"Seasons\"], id_vars=data_functioning.loc[ : , \"Temperature\":\"Snowfall\"].columns.tolist()+['Count'], var_name='Variable')"
   ]
  },
  {
   "cell_type": "code",
   "execution_count": 258,
   "metadata": {},
   "outputs": [
    {
     "name": "stderr",
     "output_type": "stream",
     "text": [
      "/Users/yujinxin/miniconda3/lib/python3.11/site-packages/statsmodels/base/model.py:607: ConvergenceWarning: Maximum Likelihood optimization failed to converge. Check mle_retvals\n",
      "  warnings.warn(\"Maximum Likelihood optimization failed to \"\n",
      "/Users/yujinxin/miniconda3/lib/python3.11/site-packages/statsmodels/regression/mixed_linear_model.py:2201: ConvergenceWarning: Retrying MixedLM optimization with lbfgs\n",
      "  warnings.warn(\n",
      "/Users/yujinxin/miniconda3/lib/python3.11/site-packages/statsmodels/base/model.py:607: ConvergenceWarning: Maximum Likelihood optimization failed to converge. Check mle_retvals\n",
      "  warnings.warn(\"Maximum Likelihood optimization failed to \"\n",
      "/Users/yujinxin/miniconda3/lib/python3.11/site-packages/statsmodels/regression/mixed_linear_model.py:2201: ConvergenceWarning: Retrying MixedLM optimization with cg\n",
      "  warnings.warn(\n"
     ]
    },
    {
     "name": "stdout",
     "output_type": "stream",
     "text": [
      "                 Mixed Linear Model Regression Results\n",
      "=======================================================================\n",
      "Model:                 MixedLM     Dependent Variable:     Count       \n",
      "No. Observations:      16930       Method:                 REML        \n",
      "No. Groups:            2           Scale:                  234235.5662 \n",
      "Min. group size:       8465        Log-Likelihood:         -128672.4069\n",
      "Max. group size:       8465        Converged:              No          \n",
      "Mean group size:       8465.0                                          \n",
      "-----------------------------------------------------------------------\n",
      "                       Coef.   Std.Err.    z    P>|z|  [0.025   0.975] \n",
      "-----------------------------------------------------------------------\n",
      "const                  872.324   76.043  11.471 0.000  723.283 1021.365\n",
      "Temperature             36.033    2.869  12.560 0.000   30.410   41.656\n",
      "Humidity               -10.827    0.815 -13.288 0.000  -12.424   -9.230\n",
      "Wind speed              53.676    3.938  13.631 0.000   45.958   61.395\n",
      "Visibility               0.002    0.008   0.302 0.763   -0.013    0.017\n",
      "Dew point temperature    0.618    3.028   0.204 0.838   -5.317    6.553\n",
      "Radiation             -118.210    6.021 -19.633 0.000 -130.011 -106.409\n",
      "Rainfall               -53.300    3.436 -15.512 0.000  -60.035  -46.565\n",
      "Snowfall                37.391    8.762   4.268 0.000   20.218   54.563\n",
      "Group Var              856.715                                         \n",
      "=======================================================================\n",
      "\n"
     ]
    },
    {
     "name": "stderr",
     "output_type": "stream",
     "text": [
      "/Users/yujinxin/miniconda3/lib/python3.11/site-packages/statsmodels/base/model.py:607: ConvergenceWarning: Maximum Likelihood optimization failed to converge. Check mle_retvals\n",
      "  warnings.warn(\"Maximum Likelihood optimization failed to \"\n",
      "/Users/yujinxin/miniconda3/lib/python3.11/site-packages/statsmodels/regression/mixed_linear_model.py:2207: ConvergenceWarning: MixedLM optimization failed, trying a different optimizer may help.\n",
      "  warnings.warn(msg, ConvergenceWarning)\n",
      "/Users/yujinxin/miniconda3/lib/python3.11/site-packages/statsmodels/regression/mixed_linear_model.py:2219: ConvergenceWarning: Gradient optimization failed, |grad| = 16.017797\n",
      "  warnings.warn(msg, ConvergenceWarning)\n",
      "/Users/yujinxin/miniconda3/lib/python3.11/site-packages/statsmodels/regression/mixed_linear_model.py:2262: ConvergenceWarning: The Hessian matrix at the estimated parameter values is not positive definite.\n",
      "  warnings.warn(msg, ConvergenceWarning)\n"
     ]
    }
   ],
   "source": [
    "import statsmodels.api as sm\n",
    "import statsmodels.formula.api as smf\n",
    "x=data_functioning_melt.loc[:, \"Temperature\":\"Snowfall\"]\n",
    "x=sm.add_constant(x)\n",
    "y=data_functioning_melt['Count']\n",
    "lme=sm.MixedLM(y, x, groups=data_functioning_melt['Variable'])\n",
    "lme_fit=lme.fit()\n",
    "print(lme_fit.summary())\n"
   ]
  },
  {
   "cell_type": "code",
   "execution_count": 259,
   "metadata": {},
   "outputs": [
    {
     "data": {
      "text/html": [
       "<div>\n",
       "<style scoped>\n",
       "    .dataframe tbody tr th:only-of-type {\n",
       "        vertical-align: middle;\n",
       "    }\n",
       "\n",
       "    .dataframe tbody tr th {\n",
       "        vertical-align: top;\n",
       "    }\n",
       "\n",
       "    .dataframe thead th {\n",
       "        text-align: right;\n",
       "    }\n",
       "</style>\n",
       "<table border=\"1\" class=\"dataframe\">\n",
       "  <thead>\n",
       "    <tr style=\"text-align: right;\">\n",
       "      <th></th>\n",
       "      <th>Temperature</th>\n",
       "      <th>Humidity</th>\n",
       "      <th>Wind speed</th>\n",
       "      <th>Visibility</th>\n",
       "      <th>Dew point temperature</th>\n",
       "      <th>Radiation</th>\n",
       "      <th>Rainfall</th>\n",
       "      <th>Snowfall</th>\n",
       "      <th>Count</th>\n",
       "      <th>Variable</th>\n",
       "      <th>value</th>\n",
       "    </tr>\n",
       "  </thead>\n",
       "  <tbody>\n",
       "    <tr>\n",
       "      <th>0</th>\n",
       "      <td>-5.2</td>\n",
       "      <td>37</td>\n",
       "      <td>2.2</td>\n",
       "      <td>2000</td>\n",
       "      <td>-17.6</td>\n",
       "      <td>0.0</td>\n",
       "      <td>0.0</td>\n",
       "      <td>0.0</td>\n",
       "      <td>254</td>\n",
       "      <td>Holiday</td>\n",
       "      <td>1</td>\n",
       "    </tr>\n",
       "    <tr>\n",
       "      <th>1</th>\n",
       "      <td>-5.5</td>\n",
       "      <td>38</td>\n",
       "      <td>0.8</td>\n",
       "      <td>2000</td>\n",
       "      <td>-17.6</td>\n",
       "      <td>0.0</td>\n",
       "      <td>0.0</td>\n",
       "      <td>0.0</td>\n",
       "      <td>204</td>\n",
       "      <td>Holiday</td>\n",
       "      <td>1</td>\n",
       "    </tr>\n",
       "    <tr>\n",
       "      <th>2</th>\n",
       "      <td>-6.0</td>\n",
       "      <td>39</td>\n",
       "      <td>1.0</td>\n",
       "      <td>2000</td>\n",
       "      <td>-17.7</td>\n",
       "      <td>0.0</td>\n",
       "      <td>0.0</td>\n",
       "      <td>0.0</td>\n",
       "      <td>173</td>\n",
       "      <td>Holiday</td>\n",
       "      <td>1</td>\n",
       "    </tr>\n",
       "    <tr>\n",
       "      <th>3</th>\n",
       "      <td>-6.2</td>\n",
       "      <td>40</td>\n",
       "      <td>0.9</td>\n",
       "      <td>2000</td>\n",
       "      <td>-17.6</td>\n",
       "      <td>0.0</td>\n",
       "      <td>0.0</td>\n",
       "      <td>0.0</td>\n",
       "      <td>107</td>\n",
       "      <td>Holiday</td>\n",
       "      <td>1</td>\n",
       "    </tr>\n",
       "    <tr>\n",
       "      <th>4</th>\n",
       "      <td>-6.0</td>\n",
       "      <td>36</td>\n",
       "      <td>2.3</td>\n",
       "      <td>2000</td>\n",
       "      <td>-18.6</td>\n",
       "      <td>0.0</td>\n",
       "      <td>0.0</td>\n",
       "      <td>0.0</td>\n",
       "      <td>78</td>\n",
       "      <td>Holiday</td>\n",
       "      <td>1</td>\n",
       "    </tr>\n",
       "    <tr>\n",
       "      <th>...</th>\n",
       "      <td>...</td>\n",
       "      <td>...</td>\n",
       "      <td>...</td>\n",
       "      <td>...</td>\n",
       "      <td>...</td>\n",
       "      <td>...</td>\n",
       "      <td>...</td>\n",
       "      <td>...</td>\n",
       "      <td>...</td>\n",
       "      <td>...</td>\n",
       "      <td>...</td>\n",
       "    </tr>\n",
       "    <tr>\n",
       "      <th>16925</th>\n",
       "      <td>4.2</td>\n",
       "      <td>34</td>\n",
       "      <td>2.6</td>\n",
       "      <td>1894</td>\n",
       "      <td>-10.3</td>\n",
       "      <td>0.0</td>\n",
       "      <td>0.0</td>\n",
       "      <td>0.0</td>\n",
       "      <td>1003</td>\n",
       "      <td>Seasons</td>\n",
       "      <td>0</td>\n",
       "    </tr>\n",
       "    <tr>\n",
       "      <th>16926</th>\n",
       "      <td>3.4</td>\n",
       "      <td>37</td>\n",
       "      <td>2.3</td>\n",
       "      <td>2000</td>\n",
       "      <td>-9.9</td>\n",
       "      <td>0.0</td>\n",
       "      <td>0.0</td>\n",
       "      <td>0.0</td>\n",
       "      <td>764</td>\n",
       "      <td>Seasons</td>\n",
       "      <td>0</td>\n",
       "    </tr>\n",
       "    <tr>\n",
       "      <th>16927</th>\n",
       "      <td>2.6</td>\n",
       "      <td>39</td>\n",
       "      <td>0.3</td>\n",
       "      <td>1968</td>\n",
       "      <td>-9.9</td>\n",
       "      <td>0.0</td>\n",
       "      <td>0.0</td>\n",
       "      <td>0.0</td>\n",
       "      <td>694</td>\n",
       "      <td>Seasons</td>\n",
       "      <td>0</td>\n",
       "    </tr>\n",
       "    <tr>\n",
       "      <th>16928</th>\n",
       "      <td>2.1</td>\n",
       "      <td>41</td>\n",
       "      <td>1.0</td>\n",
       "      <td>1859</td>\n",
       "      <td>-9.8</td>\n",
       "      <td>0.0</td>\n",
       "      <td>0.0</td>\n",
       "      <td>0.0</td>\n",
       "      <td>712</td>\n",
       "      <td>Seasons</td>\n",
       "      <td>0</td>\n",
       "    </tr>\n",
       "    <tr>\n",
       "      <th>16929</th>\n",
       "      <td>1.9</td>\n",
       "      <td>43</td>\n",
       "      <td>1.3</td>\n",
       "      <td>1909</td>\n",
       "      <td>-9.3</td>\n",
       "      <td>0.0</td>\n",
       "      <td>0.0</td>\n",
       "      <td>0.0</td>\n",
       "      <td>584</td>\n",
       "      <td>Seasons</td>\n",
       "      <td>0</td>\n",
       "    </tr>\n",
       "  </tbody>\n",
       "</table>\n",
       "<p>16930 rows × 11 columns</p>\n",
       "</div>"
      ],
      "text/plain": [
       "       Temperature  Humidity  Wind speed  Visibility  Dew point temperature  \\\n",
       "0             -5.2        37         2.2        2000                  -17.6   \n",
       "1             -5.5        38         0.8        2000                  -17.6   \n",
       "2             -6.0        39         1.0        2000                  -17.7   \n",
       "3             -6.2        40         0.9        2000                  -17.6   \n",
       "4             -6.0        36         2.3        2000                  -18.6   \n",
       "...            ...       ...         ...         ...                    ...   \n",
       "16925          4.2        34         2.6        1894                  -10.3   \n",
       "16926          3.4        37         2.3        2000                   -9.9   \n",
       "16927          2.6        39         0.3        1968                   -9.9   \n",
       "16928          2.1        41         1.0        1859                   -9.8   \n",
       "16929          1.9        43         1.3        1909                   -9.3   \n",
       "\n",
       "       Radiation  Rainfall  Snowfall  Count Variable  value  \n",
       "0            0.0       0.0       0.0    254  Holiday      1  \n",
       "1            0.0       0.0       0.0    204  Holiday      1  \n",
       "2            0.0       0.0       0.0    173  Holiday      1  \n",
       "3            0.0       0.0       0.0    107  Holiday      1  \n",
       "4            0.0       0.0       0.0     78  Holiday      1  \n",
       "...          ...       ...       ...    ...      ...    ...  \n",
       "16925        0.0       0.0       0.0   1003  Seasons      0  \n",
       "16926        0.0       0.0       0.0    764  Seasons      0  \n",
       "16927        0.0       0.0       0.0    694  Seasons      0  \n",
       "16928        0.0       0.0       0.0    712  Seasons      0  \n",
       "16929        0.0       0.0       0.0    584  Seasons      0  \n",
       "\n",
       "[16930 rows x 11 columns]"
      ]
     },
     "execution_count": 259,
     "metadata": {},
     "output_type": "execute_result"
    }
   ],
   "source": [
    "data_functioning_melt"
   ]
  },
  {
   "cell_type": "code",
   "execution_count": 260,
   "metadata": {},
   "outputs": [
    {
     "name": "stderr",
     "output_type": "stream",
     "text": [
      "/Users/yujinxin/miniconda3/lib/python3.11/site-packages/statsmodels/base/model.py:607: ConvergenceWarning: Maximum Likelihood optimization failed to converge. Check mle_retvals\n",
      "  warnings.warn(\"Maximum Likelihood optimization failed to \"\n",
      "/Users/yujinxin/miniconda3/lib/python3.11/site-packages/statsmodels/regression/mixed_linear_model.py:2201: ConvergenceWarning: Retrying MixedLM optimization with lbfgs\n",
      "  warnings.warn(\n",
      "/Users/yujinxin/miniconda3/lib/python3.11/site-packages/statsmodels/base/model.py:607: ConvergenceWarning: Maximum Likelihood optimization failed to converge. Check mle_retvals\n",
      "  warnings.warn(\"Maximum Likelihood optimization failed to \"\n",
      "/Users/yujinxin/miniconda3/lib/python3.11/site-packages/statsmodels/regression/mixed_linear_model.py:2201: ConvergenceWarning: Retrying MixedLM optimization with cg\n",
      "  warnings.warn(\n"
     ]
    },
    {
     "name": "stdout",
     "output_type": "stream",
     "text": [
      "            Mixed Linear Model Regression Results\n",
      "=============================================================\n",
      "Model:             MixedLM  Dependent Variable:  Count       \n",
      "No. Observations:  16930    Method:              REML        \n",
      "No. Groups:        2        Scale:               237592.5348 \n",
      "Min. group size:   8465     Log-Likelihood:      -128797.9866\n",
      "Max. group size:   8465     Converged:           No          \n",
      "Mean group size:   8465.0                                    \n",
      "-------------------------------------------------------------\n",
      "             Coef.   Std.Err.    z    P>|z|  [0.025   0.975] \n",
      "-------------------------------------------------------------\n",
      "const        889.240   33.032  26.921 0.000  824.500  953.981\n",
      "Temperature   36.590    0.386  94.885 0.000   35.834   37.345\n",
      "Humidity     -11.363    0.280 -40.615 0.000  -11.911  -10.815\n",
      "Wind speed    50.233    3.955  12.701 0.000   42.481   57.984\n",
      "Visibility     0.008    0.008   1.057 0.290   -0.007    0.023\n",
      "Radiation   -119.869    5.916 -20.261 0.000 -131.465 -108.273\n",
      "Snowfall      40.199    8.801   4.567 0.000   22.949   57.448\n",
      "Group Var    868.993                                         \n",
      "=============================================================\n",
      "\n"
     ]
    },
    {
     "name": "stderr",
     "output_type": "stream",
     "text": [
      "/Users/yujinxin/miniconda3/lib/python3.11/site-packages/statsmodels/base/model.py:607: ConvergenceWarning: Maximum Likelihood optimization failed to converge. Check mle_retvals\n",
      "  warnings.warn(\"Maximum Likelihood optimization failed to \"\n",
      "/Users/yujinxin/miniconda3/lib/python3.11/site-packages/statsmodels/regression/mixed_linear_model.py:2207: ConvergenceWarning: MixedLM optimization failed, trying a different optimizer may help.\n",
      "  warnings.warn(msg, ConvergenceWarning)\n",
      "/Users/yujinxin/miniconda3/lib/python3.11/site-packages/statsmodels/regression/mixed_linear_model.py:2219: ConvergenceWarning: Gradient optimization failed, |grad| = 16.017797\n",
      "  warnings.warn(msg, ConvergenceWarning)\n",
      "/Users/yujinxin/miniconda3/lib/python3.11/site-packages/statsmodels/regression/mixed_linear_model.py:2262: ConvergenceWarning: The Hessian matrix at the estimated parameter values is not positive definite.\n",
      "  warnings.warn(msg, ConvergenceWarning)\n"
     ]
    }
   ],
   "source": [
    "x=data_functioning_melt.loc[:, [\"Temperature\", \"Humidity\", \"Wind speed\", \"Visibility\", \"Radiation\", \"Snowfall\"]]\n",
    "x=sm.add_constant(x)\n",
    "y=data_functioning_melt['Count']\n",
    "lme=sm.MixedLM(y, x, groups=data_functioning_melt['Variable'])\n",
    "lme_fit=lme.fit()\n",
    "print(lme_fit.summary())"
   ]
  },
  {
   "cell_type": "code",
   "execution_count": 261,
   "metadata": {},
   "outputs": [
    {
     "name": "stdout",
     "output_type": "stream",
     "text": [
      "            Mixed Linear Model Regression Results\n",
      "=============================================================\n",
      "Model:             MixedLM  Dependent Variable:  Count       \n",
      "No. Observations:  16930    Method:              REML        \n",
      "No. Groups:        2        Scale:               237594.1857 \n",
      "Min. group size:   8465     Log-Likelihood:      -128794.5925\n",
      "Max. group size:   8465     Converged:           Yes         \n",
      "Mean group size:   8465.0                                    \n",
      "-------------------------------------------------------------\n",
      "             Coef.   Std.Err.    z    P>|z|  [0.025   0.975] \n",
      "-------------------------------------------------------------\n",
      "const        909.822   26.684  34.096 0.000  857.523  962.122\n",
      "Temperature   36.685    0.375  97.849 0.000   35.950   37.420\n",
      "Humidity     -11.529    0.231 -49.846 0.000  -11.983  -11.076\n",
      "Wind speed    50.429    3.951  12.765 0.000   42.687   58.172\n",
      "Radiation   -121.349    5.748 -21.111 0.000 -132.616 -110.083\n",
      "Snowfall      40.035    8.800   4.550 0.000   22.788   57.282\n",
      "Group Var    868.999                                         \n",
      "=============================================================\n",
      "\n"
     ]
    },
    {
     "name": "stderr",
     "output_type": "stream",
     "text": [
      "/Users/yujinxin/miniconda3/lib/python3.11/site-packages/statsmodels/base/model.py:607: ConvergenceWarning: Maximum Likelihood optimization failed to converge. Check mle_retvals\n",
      "  warnings.warn(\"Maximum Likelihood optimization failed to \"\n",
      "/Users/yujinxin/miniconda3/lib/python3.11/site-packages/statsmodels/regression/mixed_linear_model.py:2201: ConvergenceWarning: Retrying MixedLM optimization with lbfgs\n",
      "  warnings.warn(\n",
      "/Users/yujinxin/miniconda3/lib/python3.11/site-packages/statsmodels/regression/mixed_linear_model.py:2262: ConvergenceWarning: The Hessian matrix at the estimated parameter values is not positive definite.\n",
      "  warnings.warn(msg, ConvergenceWarning)\n"
     ]
    }
   ],
   "source": [
    "x=data_functioning_melt.loc[:, [\"Temperature\", \"Humidity\", \"Wind speed\", \"Radiation\", \"Snowfall\"]]\n",
    "x=sm.add_constant(x)\n",
    "y=data_functioning_melt['Count']\n",
    "lme=sm.MixedLM(y, x, groups=data_functioning_melt['Variable'])\n",
    "lme_fit=lme.fit()\n",
    "print(lme_fit.summary())"
   ]
  },
  {
   "cell_type": "code",
   "execution_count": 270,
   "metadata": {},
   "outputs": [
    {
     "data": {
      "text/html": [
       "<div>\n",
       "<style scoped>\n",
       "    .dataframe tbody tr th:only-of-type {\n",
       "        vertical-align: middle;\n",
       "    }\n",
       "\n",
       "    .dataframe tbody tr th {\n",
       "        vertical-align: top;\n",
       "    }\n",
       "\n",
       "    .dataframe thead th {\n",
       "        text-align: right;\n",
       "    }\n",
       "</style>\n",
       "<table border=\"1\" class=\"dataframe\">\n",
       "  <thead>\n",
       "    <tr style=\"text-align: right;\">\n",
       "      <th></th>\n",
       "      <th>Temperature</th>\n",
       "      <th>Humidity</th>\n",
       "      <th>Wind speed</th>\n",
       "      <th>Visibility</th>\n",
       "      <th>Dew point temperature</th>\n",
       "      <th>Radiation</th>\n",
       "      <th>Rainfall</th>\n",
       "      <th>Snowfall</th>\n",
       "      <th>Count</th>\n",
       "      <th>Variable</th>\n",
       "      <th>value</th>\n",
       "    </tr>\n",
       "  </thead>\n",
       "  <tbody>\n",
       "    <tr>\n",
       "      <th>0</th>\n",
       "      <td>-5.2</td>\n",
       "      <td>37</td>\n",
       "      <td>2.2</td>\n",
       "      <td>2000</td>\n",
       "      <td>-17.6</td>\n",
       "      <td>0.0</td>\n",
       "      <td>0.0</td>\n",
       "      <td>0.0</td>\n",
       "      <td>254</td>\n",
       "      <td>Holiday</td>\n",
       "      <td>1</td>\n",
       "    </tr>\n",
       "    <tr>\n",
       "      <th>1</th>\n",
       "      <td>-5.5</td>\n",
       "      <td>38</td>\n",
       "      <td>0.8</td>\n",
       "      <td>2000</td>\n",
       "      <td>-17.6</td>\n",
       "      <td>0.0</td>\n",
       "      <td>0.0</td>\n",
       "      <td>0.0</td>\n",
       "      <td>204</td>\n",
       "      <td>Holiday</td>\n",
       "      <td>1</td>\n",
       "    </tr>\n",
       "    <tr>\n",
       "      <th>2</th>\n",
       "      <td>-6.0</td>\n",
       "      <td>39</td>\n",
       "      <td>1.0</td>\n",
       "      <td>2000</td>\n",
       "      <td>-17.7</td>\n",
       "      <td>0.0</td>\n",
       "      <td>0.0</td>\n",
       "      <td>0.0</td>\n",
       "      <td>173</td>\n",
       "      <td>Holiday</td>\n",
       "      <td>1</td>\n",
       "    </tr>\n",
       "    <tr>\n",
       "      <th>3</th>\n",
       "      <td>-6.2</td>\n",
       "      <td>40</td>\n",
       "      <td>0.9</td>\n",
       "      <td>2000</td>\n",
       "      <td>-17.6</td>\n",
       "      <td>0.0</td>\n",
       "      <td>0.0</td>\n",
       "      <td>0.0</td>\n",
       "      <td>107</td>\n",
       "      <td>Holiday</td>\n",
       "      <td>1</td>\n",
       "    </tr>\n",
       "    <tr>\n",
       "      <th>4</th>\n",
       "      <td>-6.0</td>\n",
       "      <td>36</td>\n",
       "      <td>2.3</td>\n",
       "      <td>2000</td>\n",
       "      <td>-18.6</td>\n",
       "      <td>0.0</td>\n",
       "      <td>0.0</td>\n",
       "      <td>0.0</td>\n",
       "      <td>78</td>\n",
       "      <td>Holiday</td>\n",
       "      <td>1</td>\n",
       "    </tr>\n",
       "    <tr>\n",
       "      <th>...</th>\n",
       "      <td>...</td>\n",
       "      <td>...</td>\n",
       "      <td>...</td>\n",
       "      <td>...</td>\n",
       "      <td>...</td>\n",
       "      <td>...</td>\n",
       "      <td>...</td>\n",
       "      <td>...</td>\n",
       "      <td>...</td>\n",
       "      <td>...</td>\n",
       "      <td>...</td>\n",
       "    </tr>\n",
       "    <tr>\n",
       "      <th>16925</th>\n",
       "      <td>4.2</td>\n",
       "      <td>34</td>\n",
       "      <td>2.6</td>\n",
       "      <td>1894</td>\n",
       "      <td>-10.3</td>\n",
       "      <td>0.0</td>\n",
       "      <td>0.0</td>\n",
       "      <td>0.0</td>\n",
       "      <td>1003</td>\n",
       "      <td>Seasons</td>\n",
       "      <td>0</td>\n",
       "    </tr>\n",
       "    <tr>\n",
       "      <th>16926</th>\n",
       "      <td>3.4</td>\n",
       "      <td>37</td>\n",
       "      <td>2.3</td>\n",
       "      <td>2000</td>\n",
       "      <td>-9.9</td>\n",
       "      <td>0.0</td>\n",
       "      <td>0.0</td>\n",
       "      <td>0.0</td>\n",
       "      <td>764</td>\n",
       "      <td>Seasons</td>\n",
       "      <td>0</td>\n",
       "    </tr>\n",
       "    <tr>\n",
       "      <th>16927</th>\n",
       "      <td>2.6</td>\n",
       "      <td>39</td>\n",
       "      <td>0.3</td>\n",
       "      <td>1968</td>\n",
       "      <td>-9.9</td>\n",
       "      <td>0.0</td>\n",
       "      <td>0.0</td>\n",
       "      <td>0.0</td>\n",
       "      <td>694</td>\n",
       "      <td>Seasons</td>\n",
       "      <td>0</td>\n",
       "    </tr>\n",
       "    <tr>\n",
       "      <th>16928</th>\n",
       "      <td>2.1</td>\n",
       "      <td>41</td>\n",
       "      <td>1.0</td>\n",
       "      <td>1859</td>\n",
       "      <td>-9.8</td>\n",
       "      <td>0.0</td>\n",
       "      <td>0.0</td>\n",
       "      <td>0.0</td>\n",
       "      <td>712</td>\n",
       "      <td>Seasons</td>\n",
       "      <td>0</td>\n",
       "    </tr>\n",
       "    <tr>\n",
       "      <th>16929</th>\n",
       "      <td>1.9</td>\n",
       "      <td>43</td>\n",
       "      <td>1.3</td>\n",
       "      <td>1909</td>\n",
       "      <td>-9.3</td>\n",
       "      <td>0.0</td>\n",
       "      <td>0.0</td>\n",
       "      <td>0.0</td>\n",
       "      <td>584</td>\n",
       "      <td>Seasons</td>\n",
       "      <td>0</td>\n",
       "    </tr>\n",
       "  </tbody>\n",
       "</table>\n",
       "<p>16930 rows × 11 columns</p>\n",
       "</div>"
      ],
      "text/plain": [
       "       Temperature  Humidity  Wind speed  Visibility  Dew point temperature  \\\n",
       "0             -5.2        37         2.2        2000                  -17.6   \n",
       "1             -5.5        38         0.8        2000                  -17.6   \n",
       "2             -6.0        39         1.0        2000                  -17.7   \n",
       "3             -6.2        40         0.9        2000                  -17.6   \n",
       "4             -6.0        36         2.3        2000                  -18.6   \n",
       "...            ...       ...         ...         ...                    ...   \n",
       "16925          4.2        34         2.6        1894                  -10.3   \n",
       "16926          3.4        37         2.3        2000                   -9.9   \n",
       "16927          2.6        39         0.3        1968                   -9.9   \n",
       "16928          2.1        41         1.0        1859                   -9.8   \n",
       "16929          1.9        43         1.3        1909                   -9.3   \n",
       "\n",
       "       Radiation  Rainfall  Snowfall  Count Variable  value  \n",
       "0            0.0       0.0       0.0    254  Holiday      1  \n",
       "1            0.0       0.0       0.0    204  Holiday      1  \n",
       "2            0.0       0.0       0.0    173  Holiday      1  \n",
       "3            0.0       0.0       0.0    107  Holiday      1  \n",
       "4            0.0       0.0       0.0     78  Holiday      1  \n",
       "...          ...       ...       ...    ...      ...    ...  \n",
       "16925        0.0       0.0       0.0   1003  Seasons      0  \n",
       "16926        0.0       0.0       0.0    764  Seasons      0  \n",
       "16927        0.0       0.0       0.0    694  Seasons      0  \n",
       "16928        0.0       0.0       0.0    712  Seasons      0  \n",
       "16929        0.0       0.0       0.0    584  Seasons      0  \n",
       "\n",
       "[16930 rows x 11 columns]"
      ]
     },
     "execution_count": 270,
     "metadata": {},
     "output_type": "execute_result"
    }
   ],
   "source": [
    "data_functioning_melt"
   ]
  },
  {
   "cell_type": "code",
   "execution_count": 278,
   "metadata": {},
   "outputs": [],
   "source": [
    "data_functioning_melt.rename(columns={\"Wind speed\": \"Wind_speed\", \"Dew point temperature\" : \"Dew_point_temperature\"}, inplace=True)"
   ]
  },
  {
   "cell_type": "code",
   "execution_count": 279,
   "metadata": {},
   "outputs": [
    {
     "name": "stdout",
     "output_type": "stream",
     "text": [
      "                      Mixed Linear Model Regression Results\n",
      "=================================================================================\n",
      "Model:                     MixedLM        Dependent Variable:        Count       \n",
      "No. Observations:          16930          Method:                    REML        \n",
      "No. Groups:                2              Scale:                     234223.7219 \n",
      "Min. group size:           8465           Log-Likelihood:            -128665.8892\n",
      "Max. group size:           8465           Converged:                 Yes         \n",
      "Mean group size:           8465.0                                                \n",
      "---------------------------------------------------------------------------------\n",
      "                         Coef.       Std.Err.       z    P>|z|   [0.025   0.975] \n",
      "---------------------------------------------------------------------------------\n",
      "Intercept                 864.482        484.273   1.785 0.074   -84.675 1813.639\n",
      "C(Variable)[T.Seasons]      0.000        684.473   0.000 1.000 -1341.542 1341.542\n",
      "Temperature                36.643          0.372  98.434 0.000    35.913   37.372\n",
      "Humidity                  -10.720          0.235 -45.543 0.000   -11.182  -10.259\n",
      "Wind_speed                 53.698          3.928  13.671 0.000    45.999   61.397\n",
      "Radiation                -118.923          5.709 -20.830 0.000  -130.113 -107.733\n",
      "Rainfall                  -53.432          3.410 -15.670 0.000   -60.115  -46.749\n",
      "Snowfall                   37.215          8.739   4.259 0.000    20.087   54.343\n",
      "Group Var              234223.722 1705855811.320                                 \n",
      "=================================================================================\n",
      "\n"
     ]
    }
   ],
   "source": [
    "model = sm.MixedLM.from_formula(\"Count ~ Temperature + Humidity+ Wind_speed + Radiation + Rainfall+ Snowfall + C(Variable)\", data=data_functioning_melt, groups=data_functioning_melt[\"Variable\"])\n",
    "result = model.fit()\n",
    "print(result.summary())"
   ]
  },
  {
   "cell_type": "code",
   "execution_count": 285,
   "metadata": {},
   "outputs": [
    {
     "data": {
      "text/plain": [
       "234113.0432210297"
      ]
     },
     "execution_count": 285,
     "metadata": {},
     "output_type": "execute_result"
    }
   ],
   "source": [
    "np.mean(result.resid**2)"
   ]
  },
  {
   "cell_type": "markdown",
   "metadata": {},
   "source": [
    "### GAM model\n",
    "\n",
    "Polynomials can increase fit, but often don’t work well out-of-sample\n",
    "\n",
    "Compared to B-spline, GAM could be a better option. \n",
    "\n",
    "parameter tuning; opimization algo(gradient-based; gridsearch; by hand)"
   ]
  },
  {
   "cell_type": "code",
   "execution_count": 262,
   "metadata": {},
   "outputs": [],
   "source": [
    "import pygam\n",
    "from sklearn.preprocessing import LabelEncoder"
   ]
  },
  {
   "cell_type": "code",
   "execution_count": 263,
   "metadata": {},
   "outputs": [],
   "source": [
    "label_encoder=LabelEncoder()\n",
    "data_functioning['Holiday']=label_encoder.fit_transform(data_functioning['Holiday'])\n",
    "data_functioning['Seasons']=label_encoder.fit_transform(data_functioning['Seasons'])\n",
    "X=data_functioning.iloc[:, 1:]\n",
    "y=data_functioning['Count']"
   ]
  },
  {
   "cell_type": "code",
   "execution_count": 264,
   "metadata": {},
   "outputs": [
    {
     "data": {
      "text/plain": [
       "PoissonGAM(callbacks=[Deviance(), Diffs()], fit_intercept=True, \n",
       "   max_iter=100, \n",
       "   terms=s(0) + s(1) + s(2) + s(3) + s(4) + s(5) + s(6) + s(7) + s(8) + s(9) + s(10) + s(11) + intercept,\n",
       "   tol=0.0001, verbose=False)"
      ]
     },
     "execution_count": 264,
     "metadata": {},
     "output_type": "execute_result"
    }
   ],
   "source": [
    "linear_gam=pygam.PoissonGAM()\n",
    "linear_gam.fit(X, y)"
   ]
  },
  {
   "cell_type": "code",
   "execution_count": 265,
   "metadata": {},
   "outputs": [],
   "source": [
    "predictions=linear_gam.predict(X)"
   ]
  },
  {
   "cell_type": "code",
   "execution_count": 266,
   "metadata": {},
   "outputs": [
    {
     "data": {
      "text/plain": [
       "0.8502887816948287"
      ]
     },
     "execution_count": 266,
     "metadata": {},
     "output_type": "execute_result"
    }
   ],
   "source": [
    "# calculate R sauqre\n",
    "expalined_var=np.var(predictions-y)\n",
    "total_var=np.var(y)\n",
    "r_squared=1-(expalined_var/total_var)\n",
    "r_squared"
   ]
  },
  {
   "cell_type": "code",
   "execution_count": 267,
   "metadata": {},
   "outputs": [
    {
     "data": {
      "text/plain": [
       "61765.79995321254"
      ]
     },
     "execution_count": 267,
     "metadata": {},
     "output_type": "execute_result"
    }
   ],
   "source": [
    "# mse\n",
    "np.mean((predictions-y)**2)"
   ]
  }
 ],
 "metadata": {
  "kernelspec": {
   "display_name": "base",
   "language": "python",
   "name": "python3"
  },
  "language_info": {
   "codemirror_mode": {
    "name": "ipython",
    "version": 3
   },
   "file_extension": ".py",
   "mimetype": "text/x-python",
   "name": "python",
   "nbconvert_exporter": "python",
   "pygments_lexer": "ipython3",
   "version": "3.11.4"
  }
 },
 "nbformat": 4,
 "nbformat_minor": 2
}
