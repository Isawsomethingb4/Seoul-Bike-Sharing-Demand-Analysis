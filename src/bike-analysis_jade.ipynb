{
 "cells": [
  {
   "cell_type": "markdown",
   "metadata": {},
   "source": [
    "1. summary statistics& graph: variable table; mode; violin plot for continuous variable; calculate skewness and kurtosis; (Jade)\n",
    "\n",
    "categorical data to y: function day stacked histogram with season information; density plot of count for different seasons (Yahan)\n",
    "\n",
    "train and test data set 20:80\n",
    "\n",
    "2. (a) function day; classification; (resample:smote); (lda;knn,rf,svm);hour not considered (Yahan)\n",
    "  \n",
    "   (b) fit with known distribution: poisson(2 parameters; lambda; link function); mixed effect model; B-spline: parameter tuning; opimization algo(gradient-based; gridsearch; by hand) \n",
    "   metric: MSE, adj R2; loglikelihood; aic; bic (Jade)\n",
    "\n",
    "   (c) ml method: variable important. PCA (Yahan) ; ramdom forest (Jade)(if available; do regularized rf); (neural network); (time series)  "
   ]
  },
  {
   "cell_type": "code",
   "execution_count": null,
   "metadata": {},
   "outputs": [],
   "source": []
  }
 ],
 "metadata": {
  "kernelspec": {
   "display_name": "base",
   "language": "python",
   "name": "python3"
  },
  "language_info": {
   "name": "python",
   "version": "3.11.4"
  }
 },
 "nbformat": 4,
 "nbformat_minor": 2
}
